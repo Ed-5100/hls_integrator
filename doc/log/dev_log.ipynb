{
 "cells": [
  {
   "attachments": {},
   "cell_type": "markdown",
   "metadata": {},
   "source": [
    "<h0>Development Log</h0>"
   ]
  },
  {
   "attachments": {},
   "cell_type": "markdown",
   "metadata": {},
   "source": [
    "<p>\n",
    "todo list:<br>\n",
    "<ol>\n",
    "<li>implement migen conversion for interface level</li>\n",
    "<li>implement verilog conversion with migen</li>\n",
    "<li>implement kernal load for RTL</li>\n",
    "<li>implement kernal load for HLS</li>\n",
    "<li>implement migen conversion for communication level</li>\n",
    "</ol>\n",
    "</p>"
   ]
  },
  {
   "attachments": {},
   "cell_type": "markdown",
   "metadata": {},
   "source": [
    "<p>\n",
    "week 02/20/23: implement classes interface, communication, kernal, and task\n",
    "<br>\n",
    "week 02/27/23: add verilog conversion for interface level\n",
    "<br>\n",
    "</p>"
   ]
  }
 ],
 "metadata": {
  "language_info": {
   "name": "python"
  },
  "orig_nbformat": 4
 },
 "nbformat": 4,
 "nbformat_minor": 2
}
